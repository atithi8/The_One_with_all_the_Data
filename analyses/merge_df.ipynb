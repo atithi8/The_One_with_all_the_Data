{
 "cells": [
  {
   "cell_type": "markdown",
   "metadata": {},
   "source": [
    "# Merge information\n",
    "Wikipedia: Director, writers, air month, no. viewers in US     \n",
    "IMDB: Rating     \n",
    "Scripts: scene, location"
   ]
  },
  {
   "cell_type": "code",
   "execution_count": 1,
   "metadata": {},
   "outputs": [],
   "source": [
    "import pandas as pd"
   ]
  },
  {
   "cell_type": "code",
   "execution_count": 2,
   "metadata": {},
   "outputs": [],
   "source": [
    "creators = pd.read_csv('../data/creators.csv')\n",
    "epi = pd.read_csv('../data/episode_info.csv')\n",
    "scenes = pd.read_csv('../data/scenes.csv')"
   ]
  },
  {
   "cell_type": "code",
   "execution_count": 3,
   "metadata": {},
   "outputs": [],
   "source": [
    "creators_select = creators[['epi', 'wri', 'air', 'vie', 'season', 'month']]\n",
    "creators_select = creators_select.rename(columns={'epi':'episode', 'wri':'writers',\n",
    "                                                  'air':'airdate', 'vie':'US viewers in Milln'})\n",
    "\n",
    "epi_select = epi[['season', 'episode', 'title', 'director', 'Rating', 'number_of_reviews']]\n",
    "\n",
    "scenes_select = scenes[['season', 'episode', 'scene', 'location']]"
   ]
  },
  {
   "cell_type": "code",
   "execution_count": 4,
   "metadata": {},
   "outputs": [],
   "source": [
    "merge1 = pd.merge(creators_select, epi_select, left_on = ['season', 'episode'], \n",
    "                  right_on = ['season', 'episode'])"
   ]
  },
  {
   "cell_type": "code",
   "execution_count": 5,
   "metadata": {},
   "outputs": [],
   "source": [
    "merge2 = pd.merge(merge1, scenes_select, left_on = ['season', 'episode'], \n",
    "                  right_on = ['season', 'episode'])"
   ]
  },
  {
   "cell_type": "code",
   "execution_count": 6,
   "metadata": {},
   "outputs": [],
   "source": [
    "merge2.to_csv('../data/episode_info_merged.csv')"
   ]
  },
  {
   "cell_type": "code",
   "execution_count": null,
   "metadata": {},
   "outputs": [],
   "source": []
  }
 ],
 "metadata": {
  "kernelspec": {
   "display_name": "Python 3",
   "language": "python",
   "name": "python3"
  },
  "language_info": {
   "codemirror_mode": {
    "name": "ipython",
    "version": 3
   },
   "file_extension": ".py",
   "mimetype": "text/x-python",
   "name": "python",
   "nbconvert_exporter": "python",
   "pygments_lexer": "ipython3",
   "version": "3.7.6"
  }
 },
 "nbformat": 4,
 "nbformat_minor": 4
}
