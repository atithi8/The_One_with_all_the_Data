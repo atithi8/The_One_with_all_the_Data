{
 "cells": [
  {
   "cell_type": "markdown",
   "metadata": {},
   "source": [
    "# Directors\n",
    "Descriptives of the different directors"
   ]
  },
  {
   "cell_type": "code",
   "execution_count": 1,
   "metadata": {},
   "outputs": [],
   "source": [
    "import matplotlib.pyplot as plt\n",
    "import numpy as np\n",
    "import pandas as pd\n",
    "import seaborn as sns"
   ]
  },
  {
   "cell_type": "code",
   "execution_count": 19,
   "metadata": {},
   "outputs": [],
   "source": [
    "# load data\n",
    "sns.set_style('whitegrid')\n",
    "\n",
    "df = pd.read_csv('./episode_info_merged.csv', index_col = 0) # path will need updating to new repo path"
   ]
  },
  {
   "cell_type": "code",
   "execution_count": 4,
   "metadata": {},
   "outputs": [
    {
     "data": {
      "text/plain": [
       "array(['James Burrows ', 'Pamela Fryman ', 'Arlene Sanford ',\n",
       "       'Peter Bonerz ', 'Paul Lazarus ', 'Alan Myerson ',\n",
       "       'Michael Lembeck ', 'Gail Mancuso ', 'Robby Benson ',\n",
       "       'Kevin Bright (as Kevin S. Bright)    ', 'Ellen Gittelsohn ',\n",
       "       'Mary Kay Place ', 'Thomas Schlamme ', 'Kevin Bright ',\n",
       "       'Steve Zuckerman ', 'Terry Hughes ', 'Sam Simon ',\n",
       "       'Shelley Jensen ', 'Gary Halvorson ', 'David Steinberg ',\n",
       "       'Dana De Vally Piazza (as Dana J. deVally)    ',\n",
       "       'Dana De Vally Piazza (as Dana deVally)    ',\n",
       "       'Dana De Vally Piazza ', 'Joe Regalbuto ', 'Andrew Tsao ',\n",
       "       'Todd Holland ', 'David Schwimmer ', 'Ben Weiss ',\n",
       "       'Stephen Prime ',\n",
       "       'Kevin Bright (as Kevin S. Bright), Gary Halvorson ',\n",
       "       'Sheldon Epps ', 'Roger Christiansen '], dtype=object)"
      ]
     },
     "execution_count": 4,
     "metadata": {},
     "output_type": "execute_result"
    }
   ],
   "source": [
    "# Print names for all directors\n",
    "df.director.unique()"
   ]
  },
  {
   "cell_type": "code",
   "execution_count": 21,
   "metadata": {},
   "outputs": [],
   "source": [
    "# Homogenize names\n",
    "df['director'] = df['director'].astype(str).str.replace('\\(as Kevin S. Bright\\)','')\n",
    "df['director'] = df['director'].astype(str).str.replace(' \\(as Dana J. deVally\\)   ','')\n",
    "df['director'] = df['director'].astype(str).str.replace(' \\(as Dana deVally\\)','')\n",
    "df['director'] = df.director.str.rstrip()"
   ]
  },
  {
   "cell_type": "code",
   "execution_count": 22,
   "metadata": {},
   "outputs": [],
   "source": [
    "# Remove columns not needed\n",
    "df = df.drop(columns = ['scene', 'location'])"
   ]
  },
  {
   "cell_type": "code",
   "execution_count": 23,
   "metadata": {},
   "outputs": [],
   "source": [
    "# Create column with the overall episode number in the show\n",
    "df[\"overall_ep\"] = df[\"season\"].astype(str) + df[\"episode\"].astype(str)"
   ]
  },
  {
   "cell_type": "code",
   "execution_count": 24,
   "metadata": {},
   "outputs": [
    {
     "data": {
      "text/html": [
       "<div>\n",
       "<style scoped>\n",
       "    .dataframe tbody tr th:only-of-type {\n",
       "        vertical-align: middle;\n",
       "    }\n",
       "\n",
       "    .dataframe tbody tr th {\n",
       "        vertical-align: top;\n",
       "    }\n",
       "\n",
       "    .dataframe thead th {\n",
       "        text-align: right;\n",
       "    }\n",
       "</style>\n",
       "<table border=\"1\" class=\"dataframe\">\n",
       "  <thead>\n",
       "    <tr style=\"text-align: right;\">\n",
       "      <th></th>\n",
       "      <th>episode</th>\n",
       "      <th>writers</th>\n",
       "      <th>airdate</th>\n",
       "      <th>US viewers in Milln</th>\n",
       "      <th>season</th>\n",
       "      <th>month</th>\n",
       "      <th>title</th>\n",
       "      <th>director</th>\n",
       "      <th>Rating</th>\n",
       "      <th>number_of_reviews</th>\n",
       "      <th>overall_ep</th>\n",
       "    </tr>\n",
       "  </thead>\n",
       "  <tbody>\n",
       "    <tr>\n",
       "      <th>0</th>\n",
       "      <td>1</td>\n",
       "      <td>David Crane &amp; Marta Kauffman</td>\n",
       "      <td>1994-09-22</td>\n",
       "      <td>21.5</td>\n",
       "      <td>1</td>\n",
       "      <td>9</td>\n",
       "      <td>The One Where Monica Gets a Roommate</td>\n",
       "      <td>James Burrows</td>\n",
       "      <td>8.3</td>\n",
       "      <td>6579</td>\n",
       "      <td>11</td>\n",
       "    </tr>\n",
       "    <tr>\n",
       "      <th>15</th>\n",
       "      <td>2</td>\n",
       "      <td>David Crane &amp; Marta Kauffman</td>\n",
       "      <td>1994-09-29</td>\n",
       "      <td>20.2</td>\n",
       "      <td>1</td>\n",
       "      <td>9</td>\n",
       "      <td>The One with the Sonogram at the End</td>\n",
       "      <td>James Burrows</td>\n",
       "      <td>8.1</td>\n",
       "      <td>4953</td>\n",
       "      <td>12</td>\n",
       "    </tr>\n",
       "    <tr>\n",
       "      <th>26</th>\n",
       "      <td>3</td>\n",
       "      <td>Jeffrey Astrof &amp; Mike Sikowitz</td>\n",
       "      <td>1994-10-06</td>\n",
       "      <td>19.5</td>\n",
       "      <td>1</td>\n",
       "      <td>10</td>\n",
       "      <td>The One with the Thumb</td>\n",
       "      <td>James Burrows</td>\n",
       "      <td>8.2</td>\n",
       "      <td>4667</td>\n",
       "      <td>13</td>\n",
       "    </tr>\n",
       "    <tr>\n",
       "      <th>41</th>\n",
       "      <td>4</td>\n",
       "      <td>Alexa Junge</td>\n",
       "      <td>1994-10-13</td>\n",
       "      <td>19.7</td>\n",
       "      <td>1</td>\n",
       "      <td>10</td>\n",
       "      <td>The One with George Stephanopoulos</td>\n",
       "      <td>James Burrows</td>\n",
       "      <td>8.1</td>\n",
       "      <td>4524</td>\n",
       "      <td>14</td>\n",
       "    </tr>\n",
       "    <tr>\n",
       "      <th>57</th>\n",
       "      <td>5</td>\n",
       "      <td>Jeff Greenstein &amp; Jeff Strauss</td>\n",
       "      <td>1994-10-20</td>\n",
       "      <td>18.6</td>\n",
       "      <td>1</td>\n",
       "      <td>10</td>\n",
       "      <td>The One with the East German Laundry Detergent</td>\n",
       "      <td>Pamela Fryman</td>\n",
       "      <td>8.5</td>\n",
       "      <td>4498</td>\n",
       "      <td>15</td>\n",
       "    </tr>\n",
       "  </tbody>\n",
       "</table>\n",
       "</div>"
      ],
      "text/plain": [
       "    episode                         writers     airdate  US viewers in Milln  \\\n",
       "0         1    David Crane & Marta Kauffman  1994-09-22                 21.5   \n",
       "15        2    David Crane & Marta Kauffman  1994-09-29                 20.2   \n",
       "26        3  Jeffrey Astrof & Mike Sikowitz  1994-10-06                 19.5   \n",
       "41        4                     Alexa Junge  1994-10-13                 19.7   \n",
       "57        5  Jeff Greenstein & Jeff Strauss  1994-10-20                 18.6   \n",
       "\n",
       "    season  month                                             title  \\\n",
       "0        1      9             The One Where Monica Gets a Roommate    \n",
       "15       1      9             The One with the Sonogram at the End    \n",
       "26       1     10                           The One with the Thumb    \n",
       "41       1     10               The One with George Stephanopoulos    \n",
       "57       1     10   The One with the East German Laundry Detergent    \n",
       "\n",
       "         director  Rating  number_of_reviews overall_ep  \n",
       "0   James Burrows     8.3               6579         11  \n",
       "15  James Burrows     8.1               4953         12  \n",
       "26  James Burrows     8.2               4667         13  \n",
       "41  James Burrows     8.1               4524         14  \n",
       "57  Pamela Fryman     8.5               4498         15  "
      ]
     },
     "execution_count": 24,
     "metadata": {},
     "output_type": "execute_result"
    }
   ],
   "source": [
    "# We only need one observation linking director with episode, so remove repetitions\n",
    "\n",
    "df = df.drop_duplicates('overall_ep')\n",
    "\n",
    "\n",
    "df.head()"
   ]
  },
  {
   "cell_type": "code",
   "execution_count": 10,
   "metadata": {},
   "outputs": [
    {
     "name": "stdout",
     "output_type": "stream",
     "text": [
      "Gary Halvorson                   54\n",
      "Kevin Bright                     39\n",
      "Michael Lembeck                  20\n",
      "James Burrows                    15\n",
      "Gail Mancuso                     14\n",
      "Peter Bonerz                     12\n",
      "Ben Weiss                        10\n",
      "David Schwimmer                  10\n",
      "Shelley Jensen                    6\n",
      "Robby Benson                      6\n",
      "Terry Hughes                      5\n",
      "Dana De Vally Piazza              3\n",
      "Sheldon Epps                      3\n",
      "Pamela Fryman                     2\n",
      "Thomas Schlamme                   2\n",
      "Alan Myerson                      2\n",
      "Steve Zuckerman                   2\n",
      "Roger Christiansen                2\n",
      "Todd Holland                      1\n",
      "Joe Regalbuto                     1\n",
      "Paul Lazarus                      1\n",
      "Andrew Tsao                       1\n",
      "Ellen Gittelsohn                  1\n",
      "Sam Simon                         1\n",
      "Mary Kay Place                    1\n",
      "David Steinberg                   1\n",
      "Arlene Sanford                    1\n",
      "Stephen Prime                     1\n",
      "Kevin Bright , Gary Halvorson     1\n",
      "Name: director, dtype: int64\n"
     ]
    }
   ],
   "source": [
    "# Number of episodes each director has directed\n",
    "\n",
    "print(df.director.value_counts())"
   ]
  },
  {
   "cell_type": "code",
   "execution_count": 25,
   "metadata": {},
   "outputs": [
    {
     "data": {
      "text/html": [
       "<div>\n",
       "<style scoped>\n",
       "    .dataframe tbody tr th:only-of-type {\n",
       "        vertical-align: middle;\n",
       "    }\n",
       "\n",
       "    .dataframe tbody tr th {\n",
       "        vertical-align: top;\n",
       "    }\n",
       "\n",
       "    .dataframe thead th {\n",
       "        text-align: right;\n",
       "    }\n",
       "</style>\n",
       "<table border=\"1\" class=\"dataframe\">\n",
       "  <thead>\n",
       "    <tr style=\"text-align: right;\">\n",
       "      <th></th>\n",
       "      <th>episode</th>\n",
       "      <th>writers</th>\n",
       "      <th>airdate</th>\n",
       "      <th>US viewers in Milln</th>\n",
       "      <th>season</th>\n",
       "      <th>month</th>\n",
       "      <th>title</th>\n",
       "      <th>director</th>\n",
       "      <th>Rating</th>\n",
       "      <th>number_of_reviews</th>\n",
       "      <th>overall_ep</th>\n",
       "      <th>dir</th>\n",
       "    </tr>\n",
       "  </thead>\n",
       "  <tbody>\n",
       "    <tr>\n",
       "      <th>0</th>\n",
       "      <td>1</td>\n",
       "      <td>David Crane &amp; Marta Kauffman</td>\n",
       "      <td>1994-09-22</td>\n",
       "      <td>21.5</td>\n",
       "      <td>1</td>\n",
       "      <td>9</td>\n",
       "      <td>The One Where Monica Gets a Roommate</td>\n",
       "      <td>James Burrows</td>\n",
       "      <td>8.3</td>\n",
       "      <td>6579</td>\n",
       "      <td>11</td>\n",
       "      <td>James Burrows</td>\n",
       "    </tr>\n",
       "    <tr>\n",
       "      <th>15</th>\n",
       "      <td>2</td>\n",
       "      <td>David Crane &amp; Marta Kauffman</td>\n",
       "      <td>1994-09-29</td>\n",
       "      <td>20.2</td>\n",
       "      <td>1</td>\n",
       "      <td>9</td>\n",
       "      <td>The One with the Sonogram at the End</td>\n",
       "      <td>James Burrows</td>\n",
       "      <td>8.1</td>\n",
       "      <td>4953</td>\n",
       "      <td>12</td>\n",
       "      <td>James Burrows</td>\n",
       "    </tr>\n",
       "    <tr>\n",
       "      <th>26</th>\n",
       "      <td>3</td>\n",
       "      <td>Jeffrey Astrof &amp; Mike Sikowitz</td>\n",
       "      <td>1994-10-06</td>\n",
       "      <td>19.5</td>\n",
       "      <td>1</td>\n",
       "      <td>10</td>\n",
       "      <td>The One with the Thumb</td>\n",
       "      <td>James Burrows</td>\n",
       "      <td>8.2</td>\n",
       "      <td>4667</td>\n",
       "      <td>13</td>\n",
       "      <td>James Burrows</td>\n",
       "    </tr>\n",
       "    <tr>\n",
       "      <th>41</th>\n",
       "      <td>4</td>\n",
       "      <td>Alexa Junge</td>\n",
       "      <td>1994-10-13</td>\n",
       "      <td>19.7</td>\n",
       "      <td>1</td>\n",
       "      <td>10</td>\n",
       "      <td>The One with George Stephanopoulos</td>\n",
       "      <td>James Burrows</td>\n",
       "      <td>8.1</td>\n",
       "      <td>4524</td>\n",
       "      <td>14</td>\n",
       "      <td>James Burrows</td>\n",
       "    </tr>\n",
       "    <tr>\n",
       "      <th>57</th>\n",
       "      <td>5</td>\n",
       "      <td>Jeff Greenstein &amp; Jeff Strauss</td>\n",
       "      <td>1994-10-20</td>\n",
       "      <td>18.6</td>\n",
       "      <td>1</td>\n",
       "      <td>10</td>\n",
       "      <td>The One with the East German Laundry Detergent</td>\n",
       "      <td>Pamela Fryman</td>\n",
       "      <td>8.5</td>\n",
       "      <td>4498</td>\n",
       "      <td>15</td>\n",
       "      <td>Other</td>\n",
       "    </tr>\n",
       "  </tbody>\n",
       "</table>\n",
       "</div>"
      ],
      "text/plain": [
       "    episode                         writers     airdate  US viewers in Milln  \\\n",
       "0         1    David Crane & Marta Kauffman  1994-09-22                 21.5   \n",
       "15        2    David Crane & Marta Kauffman  1994-09-29                 20.2   \n",
       "26        3  Jeffrey Astrof & Mike Sikowitz  1994-10-06                 19.5   \n",
       "41        4                     Alexa Junge  1994-10-13                 19.7   \n",
       "57        5  Jeff Greenstein & Jeff Strauss  1994-10-20                 18.6   \n",
       "\n",
       "    season  month                                             title  \\\n",
       "0        1      9             The One Where Monica Gets a Roommate    \n",
       "15       1      9             The One with the Sonogram at the End    \n",
       "26       1     10                           The One with the Thumb    \n",
       "41       1     10               The One with George Stephanopoulos    \n",
       "57       1     10   The One with the East German Laundry Detergent    \n",
       "\n",
       "         director  Rating  number_of_reviews overall_ep            dir  \n",
       "0   James Burrows     8.3               6579         11  James Burrows  \n",
       "15  James Burrows     8.1               4953         12  James Burrows  \n",
       "26  James Burrows     8.2               4667         13  James Burrows  \n",
       "41  James Burrows     8.1               4524         14  James Burrows  \n",
       "57  Pamela Fryman     8.5               4498         15          Other  "
      ]
     },
     "execution_count": 25,
     "metadata": {},
     "output_type": "execute_result"
    }
   ],
   "source": [
    "# Replace directors with less than 10 episodes with 'other' to group them in a single category\n",
    "df.loc[df['director'] == 'Gary Halvorson', 'dir'] = 'Gary Halvorson'\n",
    "df.loc[df['director'] == 'Kevin Bright', 'dir'] = 'Kevin Bright'\n",
    "df.loc[df['director'] == 'Michael Lembeck', 'dir'] = 'Michael Lembeck'\n",
    "df.loc[df['director'] == 'James Burrows', 'dir'] = 'James Burrows'\n",
    "df.loc[df['director'] == 'Gail Mancuso', 'dir'] = 'Gail Mancuso'\n",
    "df.loc[df['director'] == 'Peter Bonerz', 'dir'] = 'Peter Bonerz'\n",
    "df.loc[df['director'] == 'Ben Weiss', 'dir'] = 'Ben Weiss'\n",
    "df.loc[df['director'] == 'David Schwimmer', 'dir'] = 'David Schwimmer'\n",
    "df.loc[(df['director'] != 'Kevin Bright') & (df['director'] != 'Gary Halvorson') & (df['director'] != 'Michael Lembeck') &\n",
    "       (df['director'] != 'James Burrows') & (df['director'] != 'Gail Mancuso') & (df['director'] != 'Peter Bonerz') &\n",
    "       (df['director'] != 'Ben Weiss') & (df['director'] != 'David Schwimmer'),'dir'] = \"Other\"\n",
    "    \n",
    "    \n",
    "df.head()"
   ]
  },
  {
   "cell_type": "code",
   "execution_count": 26,
   "metadata": {},
   "outputs": [
    {
     "data": {
      "image/png": "[encoded data removed]",
      "text/plain": [
       "<Figure size 1008x576 with 1 Axes>"
      ]
     },
     "metadata": {},
     "output_type": "display_data"
    }
   ],
   "source": [
    "# Plot relationship between directors and the rating for their episodes\n",
    "plt.figure(figsize = (14,8))\n",
    "\n",
    "sns.boxplot(df['dir'], df.Rating)\n",
    "\n",
    "plt.xlabel('Directors (+10 eps.)', fontsize = 16)\n",
    "plt.ylabel('Rating on IMDB', fontsize = 16)\n",
    "\n",
    "plt.show()\n"
   ]
  },
  {
   "cell_type": "code",
   "execution_count": null,
   "metadata": {},
   "outputs": [],
   "source": [
    "# Fit a model to see if there are differences\n",
    "df_copy = df.copy()\n",
    "\n",
    "# Create dummies for each category under directors\n",
    "dummies = pd.get_dummies(df_copy.dir)\n",
    "\n",
    "dir_dummies = df_copy.join(dummies)\n",
    "\n",
    "dir_dummies = dir_dummies.rename(columns={\"Ben Weiss\": \"BenWeiss\", \"David Schwimmer\": \"DavidSchwimmer\",\n",
    "                                         \"Gail Mancuso\": 'GailMancuso', 'Gary Halvorson': 'GaryHalvorson',\n",
    "                                         'James Burrows': 'JamesBurrows', 'Kevin Bright': 'KevinBright',\n",
    "                                         'Michael Lembeck': 'MichaelLembeck', 'Peter Bonerz': 'PeterBonerz'})\n",
    "\n",
    "# Split data\n",
    "dir_dum_train = dir_dummies.sample(frac = .75, random_state = 732)\n",
    "\n",
    "dir_dum_test = dir_dummies.drop(dir_dum_train.index)\n",
    "\n",
    "dir_dum_train.head()\n"
   ]
  },
  {
   "cell_type": "code",
   "execution_count": null,
   "metadata": {},
   "outputs": [],
   "source": [
    "from sklearn import linear_model\n",
    "from sklearn.model_selection import train_test_split"
   ]
  },
  {
   "cell_type": "code",
   "execution_count": null,
   "metadata": {},
   "outputs": [],
   "source": [
    "X = dir_dum_train[['Ben Weiss', 'David Schwimmer', 'Gail Mancuso', 'Gary Halvorson', 'James Burrows',\n",
    "                  'Kevin Bright', 'Michael Lembeck', 'Peter Bonerz', 'Other']]\n",
    "\n",
    "Y = dir_dum_train['Rating']\n",
    "\n",
    "X_train, X_test, Y_train, Y_test = train_test_split(X, Y, test_size = .25, random_state = 28)\n",
    "\n",
    "regr = linear_model.LinearRegression()\n",
    "\n",
    "regr.fit(X_train, Y_train)\n",
    "\n",
    "predicted = regr.predict(X_test)\n"
   ]
  },
  {
   "cell_type": "code",
   "execution_count": null,
   "metadata": {},
   "outputs": [],
   "source": []
  },
  {
   "cell_type": "code",
   "execution_count": null,
   "metadata": {},
   "outputs": [],
   "source": [
    "from statsmodels.formula.api import ols"
   ]
  },
  {
   "cell_type": "code",
   "execution_count": null,
   "metadata": {},
   "outputs": [],
   "source": [
    "modBW = ols('Rating ~ BenWeiss', data = dir_dum_train)\n",
    "fit_modBW = mod.fit()\n",
    "fit_modBW.summary()"
   ]
  },
  {
   "cell_type": "code",
   "execution_count": null,
   "metadata": {},
   "outputs": [],
   "source": [
    "modDS = ols('Rating ~ DavidSchwimmer', data = dir_dum_train)\n",
    "fit_modDS = mod.fit()\n",
    "fit_modDS.summary()"
   ]
  },
  {
   "cell_type": "code",
   "execution_count": null,
   "metadata": {},
   "outputs": [],
   "source": [
    "modGM = ols('Rating ~ GailMancuso', data = dir_dum_train)\n",
    "fit_modGM = mod.fit()\n",
    "fit_modGM.summary()"
   ]
  },
  {
   "cell_type": "code",
   "execution_count": null,
   "metadata": {},
   "outputs": [],
   "source": [
    "modML = ols('Rating ~ MichaelLembeck', data = dir_dum_train)\n",
    "fit_modML = mod.fit()\n",
    "fit_modML.summary()"
   ]
  },
  {
   "cell_type": "code",
   "execution_count": null,
   "metadata": {},
   "outputs": [],
   "source": []
  },
  {
   "cell_type": "code",
   "execution_count": null,
   "metadata": {},
   "outputs": [],
   "source": []
  },
  {
   "cell_type": "code",
   "execution_count": null,
   "metadata": {},
   "outputs": [],
   "source": []
  },
  {
   "cell_type": "markdown",
   "metadata": {},
   "source": [
    "### Play with writers column"
   ]
  },
  {
   "cell_type": "code",
   "execution_count": 222,
   "metadata": {},
   "outputs": [
    {
     "name": "stdout",
     "output_type": "stream",
     "text": [
      "Andrew Reich & Ted Cohen                                                  11\n",
      "Alexa Junge                                                               11\n",
      "David Crane & Marta Kauffman                                               9\n",
      "Doty Abrams                                                                9\n",
      "Shana Goldberg-Meehan                                                      8\n",
      "                                                                          ..\n",
      "Ellen Plummer & Sherry Bilsing & Brian Buckner & Sebastian Jones           1\n",
      "Shana Goldberg-Meehan & Seth Kurland                                       1\n",
      "Perry Rein & Gigi McCreery                                                 1\n",
      "Pang-Ni Landrum & Mark Kunerth & Shana Goldberg-Meehan & Scott Silveri     1\n",
      "Michael Curtis & Seth Kurland                                              1\n",
      "Name: writers, Length: 93, dtype: int64\n"
     ]
    }
   ],
   "source": [
    "print(df.writers.value_counts())"
   ]
  },
  {
   "cell_type": "code",
   "execution_count": null,
   "metadata": {},
   "outputs": [],
   "source": [
    "df.writers.unique()"
   ]
  },
  {
   "cell_type": "code",
   "execution_count": null,
   "metadata": {},
   "outputs": [],
   "source": []
  },
  {
   "cell_type": "code",
   "execution_count": null,
   "metadata": {
    "scrolled": true
   },
   "outputs": [],
   "source": []
  },
  {
   "cell_type": "code",
   "execution_count": null,
   "metadata": {},
   "outputs": [],
   "source": []
  },
  {
   "cell_type": "code",
   "execution_count": null,
   "metadata": {},
   "outputs": [],
   "source": []
  },
  {
   "cell_type": "code",
   "execution_count": null,
   "metadata": {},
   "outputs": [],
   "source": []
  },
  {
   "cell_type": "code",
   "execution_count": null,
   "metadata": {},
   "outputs": [],
   "source": []
  },
  {
   "cell_type": "code",
   "execution_count": null,
   "metadata": {},
   "outputs": [],
   "source": []
  },
  {
   "cell_type": "code",
   "execution_count": null,
   "metadata": {},
   "outputs": [],
   "source": []
  },
  {
   "cell_type": "code",
   "execution_count": null,
   "metadata": {},
   "outputs": [],
   "source": []
  },
  {
   "cell_type": "code",
   "execution_count": null,
   "metadata": {},
   "outputs": [],
   "source": []
  },
  {
   "cell_type": "code",
   "execution_count": null,
   "metadata": {},
   "outputs": [],
   "source": []
  }
 ],
 "metadata": {
  "kernelspec": {
   "display_name": "Python 3",
   "language": "python",
   "name": "python3"
  },
  "language_info": {
   "codemirror_mode": {
    "name": "ipython",
    "version": 3
   },
   "file_extension": ".py",
   "mimetype": "text/x-python",
   "name": "python",
   "nbconvert_exporter": "python",
   "pygments_lexer": "ipython3",
   "version": "3.7.6"
  }
 },
 "nbformat": 4,
 "nbformat_minor": 4
}
