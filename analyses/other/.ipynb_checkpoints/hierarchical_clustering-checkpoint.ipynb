{
 "cells": [
  {
   "cell_type": "code",
   "execution_count": 1,
   "metadata": {},
   "outputs": [],
   "source": [
    "from sklearn.cluster import AgglomerativeClustering\n",
    "from sklearn.preprocessing import normalize\n",
    "import matplotlib.pyplot as plt\n",
    "import gower\n",
    "import numpy as np\n",
    "import pandas as pd\n",
    "import scipy.cluster.hierarchy as shc # import dendrogram, linkage, fcluster\n",
    "from scipy.cluster.hierarchy import linkage, fcluster, dendrogram\n",
    "import seaborn as sns"
   ]
  },
  {
   "cell_type": "markdown",
   "metadata": {},
   "source": [
    "This script has four different attempts at running hierarchical clustering on the Friends data. They do not appear in order. The first two attempts (at the bottom) are the summaries of playing around, and the two attempts at the top are the result of a more thoughtful process. Each attempt has its own header, just to make it stand out when its part of the code starts."
   ]
  },
  {
   "cell_type": "code",
   "execution_count": 2,
   "metadata": {},
   "outputs": [
    {
     "data": {
      "text/plain": [
       "['season',\n",
       " 'episode',\n",
       " 'title',\n",
       " 'director',\n",
       " 'release_date',\n",
       " 'all_cast',\n",
       " 'Rating',\n",
       " 'number_of_reviews',\n",
       " 'short_summary',\n",
       " 'writer',\n",
       " 'views',\n",
       " 'month',\n",
       " 'central_perk_loc',\n",
       " 'monicas_loc',\n",
       " 'chandlers_loc',\n",
       " 'ross_loc',\n",
       " 'monicas_lines',\n",
       " 'rachel_lines',\n",
       " 'ross_lines',\n",
       " 'phoebe_lines',\n",
       " 'joey_lines',\n",
       " 'chandler_lines',\n",
       " 'all_lines',\n",
       " 'num_guest_stars',\n",
       " 'common_director',\n",
       " 'epi_type',\n",
       " 'catchphrases',\n",
       " 'title_about',\n",
       " 'gunther',\n",
       " 'janice',\n",
       " 'richard',\n",
       " 'heckles',\n",
       " 'frank',\n",
       " 'estelle',\n",
       " 'ursula',\n",
       " 'part_1',\n",
       " 'rat_grouped']"
      ]
     },
     "execution_count": 2,
     "metadata": {},
     "output_type": "execute_result"
    }
   ],
   "source": [
    "# Load data and check columns\n",
    "np.random.seed(440)\n",
    "X = pd.read_csv('../data/with_rows_removed_addedrows.csv')\n",
    "\n",
    "allcols=[col for col in X]\n",
    "allcols"
   ]
  },
  {
   "cell_type": "code",
   "execution_count": 3,
   "metadata": {},
   "outputs": [],
   "source": [
    "# Remove unnecessary columns \n",
    "X_sub = X[allcols[6:len(X)-1]]\n",
    "\n",
    "X_sub = X_sub.drop(columns=['number_of_reviews', 'short_summary', 'writer']) # 'writer' should be left in if we wanted to include it, but there were like 80 different values"
   ]
  },
  {
   "cell_type": "markdown",
   "metadata": {},
   "source": [
    "#### 4th attempt - Gower distance, not beautiful"
   ]
  },
  {
   "cell_type": "markdown",
   "metadata": {},
   "source": [
    "There are ordinal, categorical and binary predictors. Hierarchical clustering runs only on numerical data,  so a different similar algorithm is needed for the categorical variables: the Gower distance."
   ]
  },
  {
   "cell_type": "code",
   "execution_count": 28,
   "metadata": {},
   "outputs": [
    {
     "name": "stderr",
     "output_type": "stream",
     "text": [
      "/Users/lfa/opt/anaconda3/lib/python3.7/site-packages/ipykernel_launcher.py:4: ClusterWarning: scipy.cluster: The symmetric non-negative hollow observation matrix looks suspiciously like an uncondensed distance matrix\n",
      "  after removing the cwd from sys.path.\n"
     ]
    },
    {
     "data": {
      "text/html": [
       "<div>\n",
       "<style scoped>\n",
       "    .dataframe tbody tr th:only-of-type {\n",
       "        vertical-align: middle;\n",
       "    }\n",
       "\n",
       "    .dataframe tbody tr th {\n",
       "        vertical-align: top;\n",
       "    }\n",
       "\n",
       "    .dataframe thead th {\n",
       "        text-align: right;\n",
       "    }\n",
       "</style>\n",
       "<table border=\"1\" class=\"dataframe\">\n",
       "  <thead>\n",
       "    <tr style=\"text-align: right;\">\n",
       "      <th></th>\n",
       "      <th>0</th>\n",
       "      <th>1</th>\n",
       "      <th>2</th>\n",
       "      <th>3</th>\n",
       "    </tr>\n",
       "  </thead>\n",
       "  <tbody>\n",
       "    <tr>\n",
       "      <th>0</th>\n",
       "      <td>3.0</td>\n",
       "      <td>8.0</td>\n",
       "      <td>0.148709</td>\n",
       "      <td>2.0</td>\n",
       "    </tr>\n",
       "    <tr>\n",
       "      <th>1</th>\n",
       "      <td>55.0</td>\n",
       "      <td>102.0</td>\n",
       "      <td>0.192087</td>\n",
       "      <td>2.0</td>\n",
       "    </tr>\n",
       "    <tr>\n",
       "      <th>2</th>\n",
       "      <td>112.0</td>\n",
       "      <td>205.0</td>\n",
       "      <td>0.203165</td>\n",
       "      <td>2.0</td>\n",
       "    </tr>\n",
       "    <tr>\n",
       "      <th>3</th>\n",
       "      <td>58.0</td>\n",
       "      <td>65.0</td>\n",
       "      <td>0.203911</td>\n",
       "      <td>2.0</td>\n",
       "    </tr>\n",
       "    <tr>\n",
       "      <th>4</th>\n",
       "      <td>11.0</td>\n",
       "      <td>230.0</td>\n",
       "      <td>0.209596</td>\n",
       "      <td>3.0</td>\n",
       "    </tr>\n",
       "    <tr>\n",
       "      <th>...</th>\n",
       "      <td>...</td>\n",
       "      <td>...</td>\n",
       "      <td>...</td>\n",
       "      <td>...</td>\n",
       "    </tr>\n",
       "    <tr>\n",
       "      <th>221</th>\n",
       "      <td>136.0</td>\n",
       "      <td>447.0</td>\n",
       "      <td>0.704392</td>\n",
       "      <td>223.0</td>\n",
       "    </tr>\n",
       "    <tr>\n",
       "      <th>222</th>\n",
       "      <td>37.0</td>\n",
       "      <td>448.0</td>\n",
       "      <td>0.707323</td>\n",
       "      <td>224.0</td>\n",
       "    </tr>\n",
       "    <tr>\n",
       "      <th>223</th>\n",
       "      <td>38.0</td>\n",
       "      <td>449.0</td>\n",
       "      <td>0.723871</td>\n",
       "      <td>225.0</td>\n",
       "    </tr>\n",
       "    <tr>\n",
       "      <th>224</th>\n",
       "      <td>159.0</td>\n",
       "      <td>450.0</td>\n",
       "      <td>0.789884</td>\n",
       "      <td>226.0</td>\n",
       "    </tr>\n",
       "    <tr>\n",
       "      <th>225</th>\n",
       "      <td>46.0</td>\n",
       "      <td>451.0</td>\n",
       "      <td>0.830766</td>\n",
       "      <td>227.0</td>\n",
       "    </tr>\n",
       "  </tbody>\n",
       "</table>\n",
       "<p>226 rows × 4 columns</p>\n",
       "</div>"
      ],
      "text/plain": [
       "         0      1         2      3\n",
       "0      3.0    8.0  0.148709    2.0\n",
       "1     55.0  102.0  0.192087    2.0\n",
       "2    112.0  205.0  0.203165    2.0\n",
       "3     58.0   65.0  0.203911    2.0\n",
       "4     11.0  230.0  0.209596    3.0\n",
       "..     ...    ...       ...    ...\n",
       "221  136.0  447.0  0.704392  223.0\n",
       "222   37.0  448.0  0.707323  224.0\n",
       "223   38.0  449.0  0.723871  225.0\n",
       "224  159.0  450.0  0.789884  226.0\n",
       "225   46.0  451.0  0.830766  227.0\n",
       "\n",
       "[226 rows x 4 columns]"
      ]
     },
     "execution_count": 28,
     "metadata": {},
     "output_type": "execute_result"
    }
   ],
   "source": [
    "# Try Gower distance because of mixed variables:\n",
    "\n",
    "X_gower = gower.gower_matrix(X_sub)\n",
    "Zg = linkage(X_gower)\n",
    "\n",
    "# Scipy doesn't like a matrix with Gower distance, but let's push through"
   ]
  },
  {
   "cell_type": "code",
   "execution_count": 20,
   "metadata": {},
   "outputs": [
    {
     "data": {
      "image/png": "[encoded data removed]",
      "text/plain": [
       "<Figure size 720x504 with 1 Axes>"
      ]
     },
     "metadata": {
      "needs_background": "light"
     },
     "output_type": "display_data"
    }
   ],
   "source": [
    "# Create dendrogram\n",
    "plt.figure(figsize=(10, 7))  \n",
    "plt.title(\"Dendrograms\")  \n",
    "dend = shc.dendrogram(Zg)"
   ]
  },
  {
   "cell_type": "code",
   "execution_count": 19,
   "metadata": {},
   "outputs": [
    {
     "data": {
      "text/plain": [
       "array([1, 1, 1, 1, 1, 1, 1, 1, 1, 1, 1, 1, 1, 1, 1, 1, 1, 1, 1, 1, 1, 1,\n",
       "       1, 1, 1, 1, 1, 1, 1, 1, 1, 1, 1, 1, 1, 1, 1, 1, 1, 1, 1, 1, 1, 1,\n",
       "       1, 1, 2, 1, 1, 1, 1, 1, 1, 1, 1, 1, 1, 1, 1, 1, 1, 1, 1, 1, 1, 1,\n",
       "       1, 1, 1, 1, 1, 1, 1, 1, 1, 1, 1, 1, 1, 1, 1, 1, 1, 1, 1, 1, 1, 1,\n",
       "       1, 1, 1, 1, 1, 1, 1, 1, 1, 1, 1, 1, 1, 1, 1, 1, 1, 1, 1, 1, 1, 1,\n",
       "       1, 1, 1, 1, 1, 1, 1, 1, 1, 1, 1, 1, 1, 1, 1, 1, 1, 1, 1, 1, 1, 1,\n",
       "       1, 1, 1, 1, 1, 1, 1, 1, 1, 1, 1, 1, 1, 1, 1, 1, 1, 1, 1, 1, 1, 1,\n",
       "       1, 1, 1, 1, 1, 1, 1, 1, 1, 1, 1, 1, 1, 1, 1, 1, 1, 1, 1, 1, 1, 1,\n",
       "       1, 1, 1, 1, 1, 1, 1, 1, 1, 1, 1, 1, 1, 1, 1, 1, 1, 1, 1, 1, 1, 1,\n",
       "       1, 1, 1, 1, 1, 1, 1, 1, 1, 1, 1, 1, 1, 1, 1, 1, 1, 1, 1, 1, 1, 1,\n",
       "       1, 1, 1, 1, 1, 1, 1], dtype=int32)"
      ]
     },
     "execution_count": 19,
     "metadata": {},
     "output_type": "execute_result"
    }
   ],
   "source": [
    "# Fit three \"apparent\" clusters\n",
    "cld = fcluster(Zg, 3, criterion = 'maxclust')\n",
    "cld"
   ]
  },
  {
   "cell_type": "code",
   "execution_count": null,
   "metadata": {},
   "outputs": [],
   "source": []
  },
  {
   "cell_type": "markdown",
   "metadata": {},
   "source": [
    "#### 3rd attempt - using dummies for categorical predictors"
   ]
  },
  {
   "cell_type": "markdown",
   "metadata": {},
   "source": [
    "Given that hierarchical clustering has some difficulties with a Gower matrix, this version of the clustering is fed with numerical versions of all variables."
   ]
  },
  {
   "cell_type": "code",
   "execution_count": 4,
   "metadata": {},
   "outputs": [
    {
     "data": {
      "text/plain": [
       "['Rating',\n",
       " 'views',\n",
       " 'month',\n",
       " 'central_perk_loc',\n",
       " 'monicas_loc',\n",
       " 'chandlers_loc',\n",
       " 'ross_loc',\n",
       " 'monicas_lines',\n",
       " 'rachel_lines',\n",
       " 'ross_lines',\n",
       " 'phoebe_lines',\n",
       " 'joey_lines',\n",
       " 'chandler_lines',\n",
       " 'all_lines',\n",
       " 'num_guest_stars',\n",
       " 'common_director',\n",
       " 'epi_type',\n",
       " 'catchphrases',\n",
       " 'title_about',\n",
       " 'gunther',\n",
       " 'janice',\n",
       " 'richard',\n",
       " 'heckles',\n",
       " 'frank',\n",
       " 'estelle',\n",
       " 'ursula',\n",
       " 'part_1',\n",
       " 'rat_grouped']"
      ]
     },
     "execution_count": 4,
     "metadata": {},
     "output_type": "execute_result"
    }
   ],
   "source": [
    "# Check columns\n",
    "subsetcols=[col for col in X_sub]\n",
    "subsetcols"
   ]
  },
  {
   "cell_type": "code",
   "execution_count": 8,
   "metadata": {},
   "outputs": [],
   "source": [
    "# Recode categorical values with numbers\n",
    "X_sub = X_sub.replace({'epi_type': {'prem': 1, 'reg': 0, 'fin': 2}})\n",
    "X_sub = X_sub.replace({'title_about': {'[\\'chandler\\']': 1, '[\\'joey\\']': 2, '[\\'monica\\']': 3,\n",
    "                               '[\\'phoebe\\']': 4, '[\\'rachel\\']': 5, '[\\'ross\\']': 6,\n",
    "                               '[\\'chandler\\', \\'monica\\']': 7, '[\\'rachel\\', \\'joey\\']': 8,\n",
    "                               '[\\'rachel\\', \\'ross\\']': 9, '[\\'ross\\', \\'chandler\\']': 10,\n",
    "                               '[\\'ross\\', \\'monica\\']': 11, 'other': 12}})\n",
    "X_sub = X_sub.replace({'rat_grouped': {'av': 1, 'below': 0, 'above': 2}})"
   ]
  },
  {
   "cell_type": "code",
   "execution_count": 9,
   "metadata": {},
   "outputs": [],
   "source": [
    "# Split predictors into dataframes of variable types \n",
    "continuous=X_sub[subsetcols[0:15]].drop(columns = ['month'])\n",
    "categorical=X_sub.iloc[:, [2,15,16,17,26]]\n",
    "binary=X_sub[subsetcols[18:26]]"
   ]
  },
  {
   "cell_type": "code",
   "execution_count": 10,
   "metadata": {},
   "outputs": [
    {
     "name": "stderr",
     "output_type": "stream",
     "text": [
      "/Users/lfa/opt/anaconda3/lib/python3.7/site-packages/pandas/core/frame.py:2963: SettingWithCopyWarning: \n",
      "A value is trying to be set on a copy of a slice from a DataFrame.\n",
      "Try using .loc[row_indexer,col_indexer] = value instead\n",
      "\n",
      "See the caveats in the documentation: https://pandas.pydata.org/pandas-docs/stable/user_guide/indexing.html#returning-a-view-versus-a-copy\n",
      "  self[k1] = value[k2]\n"
     ]
    }
   ],
   "source": [
    "# Encode categorical as binary\n",
    "\n",
    "def prepare(df,cols):\n",
    "    df[cols] = df[cols].astype(str)\n",
    "    \n",
    "    dummies = pd.get_dummies(df[cols])\n",
    "    \n",
    "    return dummies\n",
    "\n",
    "\n",
    "cat_dummies = prepare(categorical, categorical.columns).copy()\n",
    "\n",
    "# Combine categorical and binary dfs\n",
    "mergedDf = cat_dummies.merge(binary, left_index=True, right_index=True)\n"
   ]
  },
  {
   "cell_type": "markdown",
   "metadata": {},
   "source": [
    "Try scaling two ways:\n",
    "    1st way"
   ]
  },
  {
   "cell_type": "code",
   "execution_count": 11,
   "metadata": {},
   "outputs": [],
   "source": [
    "from sklearn import preprocessing\n",
    "\n",
    "# Combine dfs and rescale\n",
    "allpred = continuous.merge(mergedDf, left_index=True, right_index=True)\n",
    "allpred_stand = preprocessing.scale(allpred)"
   ]
  },
  {
   "cell_type": "code",
   "execution_count": 13,
   "metadata": {},
   "outputs": [
    {
     "data": {
      "text/plain": [
       "<matplotlib.lines.Line2D at 0x1a251bec50>"
      ]
     },
     "execution_count": 13,
     "metadata": {},
     "output_type": "execute_result"
    },
    {
     "data": {
      "image/png": "[encoded data removed]",
      "text/plain": [
       "<Figure size 720x504 with 1 Axes>"
      ]
     },
     "metadata": {
      "needs_background": "light"
     },
     "output_type": "display_data"
    }
   ],
   "source": [
    "# create dendrogram\n",
    "\n",
    "plt.figure(figsize=(10, 7))  \n",
    "plt.title(\"Dendrograms\")  \n",
    "dend = shc.dendrogram(shc.linkage(allpred_stand, method='ward'))\n",
    "\n",
    "plt.axhline(y=29, color='y', linestyle='--') # this line shows where the cut for the clusters will be made"
   ]
  },
  {
   "cell_type": "code",
   "execution_count": 36,
   "metadata": {},
   "outputs": [],
   "source": [
    "from sklearn.cluster import AgglomerativeClustering\n",
    "\n",
    "# define the model\n",
    "cluster = AgglomerativeClustering(n_clusters=3, affinity='euclidean', linkage='ward') # all other linkage methods showed one huge cluster and a couple outliers \n",
    "\n",
    "# fit model and predict clusters\n",
    "yhat = cluster.fit_predict(allpred_stand)\n",
    "yhat"
   ]
  },
  {
   "cell_type": "markdown",
   "metadata": {},
   "source": [
    "2nd way"
   ]
  },
  {
   "cell_type": "code",
   "execution_count": 14,
   "metadata": {},
   "outputs": [
    {
     "data": {
      "text/html": [
       "<div>\n",
       "<style scoped>\n",
       "    .dataframe tbody tr th:only-of-type {\n",
       "        vertical-align: middle;\n",
       "    }\n",
       "\n",
       "    .dataframe tbody tr th {\n",
       "        vertical-align: top;\n",
       "    }\n",
       "\n",
       "    .dataframe thead th {\n",
       "        text-align: right;\n",
       "    }\n",
       "</style>\n",
       "<table border=\"1\" class=\"dataframe\">\n",
       "  <thead>\n",
       "    <tr style=\"text-align: right;\">\n",
       "      <th></th>\n",
       "      <th>Rating</th>\n",
       "      <th>views</th>\n",
       "      <th>central_perk_loc</th>\n",
       "      <th>monicas_loc</th>\n",
       "      <th>chandlers_loc</th>\n",
       "      <th>ross_loc</th>\n",
       "      <th>monicas_lines</th>\n",
       "      <th>rachel_lines</th>\n",
       "      <th>ross_lines</th>\n",
       "      <th>phoebe_lines</th>\n",
       "      <th>...</th>\n",
       "      <th>part_1_0</th>\n",
       "      <th>part_1_1</th>\n",
       "      <th>title_about</th>\n",
       "      <th>gunther</th>\n",
       "      <th>janice</th>\n",
       "      <th>richard</th>\n",
       "      <th>heckles</th>\n",
       "      <th>frank</th>\n",
       "      <th>estelle</th>\n",
       "      <th>ursula</th>\n",
       "    </tr>\n",
       "  </thead>\n",
       "  <tbody>\n",
       "    <tr>\n",
       "      <th>0</th>\n",
       "      <td>0.355376</td>\n",
       "      <td>0.920553</td>\n",
       "      <td>0.008563</td>\n",
       "      <td>0.014272</td>\n",
       "      <td>0.000000</td>\n",
       "      <td>0.008563</td>\n",
       "      <td>0.010384</td>\n",
       "      <td>0.006970</td>\n",
       "      <td>0.006686</td>\n",
       "      <td>0.002703</td>\n",
       "      <td>...</td>\n",
       "      <td>0.042816</td>\n",
       "      <td>0.0</td>\n",
       "      <td>0.128449</td>\n",
       "      <td>0.000000</td>\n",
       "      <td>0.000000</td>\n",
       "      <td>0.0</td>\n",
       "      <td>0.0</td>\n",
       "      <td>0.0</td>\n",
       "      <td>0.0</td>\n",
       "      <td>0.0</td>\n",
       "    </tr>\n",
       "    <tr>\n",
       "      <th>1</th>\n",
       "      <td>0.324299</td>\n",
       "      <td>0.808747</td>\n",
       "      <td>0.003640</td>\n",
       "      <td>0.010919</td>\n",
       "      <td>0.000000</td>\n",
       "      <td>0.000000</td>\n",
       "      <td>0.004613</td>\n",
       "      <td>0.006261</td>\n",
       "      <td>0.010380</td>\n",
       "      <td>0.002307</td>\n",
       "      <td>...</td>\n",
       "      <td>0.040037</td>\n",
       "      <td>0.0</td>\n",
       "      <td>0.480443</td>\n",
       "      <td>0.040037</td>\n",
       "      <td>0.000000</td>\n",
       "      <td>0.0</td>\n",
       "      <td>0.0</td>\n",
       "      <td>0.0</td>\n",
       "      <td>0.0</td>\n",
       "      <td>0.0</td>\n",
       "    </tr>\n",
       "    <tr>\n",
       "      <th>2</th>\n",
       "      <td>0.335394</td>\n",
       "      <td>0.797584</td>\n",
       "      <td>0.010907</td>\n",
       "      <td>0.008180</td>\n",
       "      <td>0.005454</td>\n",
       "      <td>0.000000</td>\n",
       "      <td>0.008244</td>\n",
       "      <td>0.004122</td>\n",
       "      <td>0.005232</td>\n",
       "      <td>0.006024</td>\n",
       "      <td>...</td>\n",
       "      <td>0.040902</td>\n",
       "      <td>0.0</td>\n",
       "      <td>0.490821</td>\n",
       "      <td>0.040902</td>\n",
       "      <td>0.000000</td>\n",
       "      <td>0.0</td>\n",
       "      <td>0.0</td>\n",
       "      <td>0.0</td>\n",
       "      <td>0.0</td>\n",
       "      <td>0.0</td>\n",
       "    </tr>\n",
       "    <tr>\n",
       "      <th>3</th>\n",
       "      <td>0.329583</td>\n",
       "      <td>0.801577</td>\n",
       "      <td>0.007629</td>\n",
       "      <td>0.015258</td>\n",
       "      <td>0.000000</td>\n",
       "      <td>0.000000</td>\n",
       "      <td>0.007781</td>\n",
       "      <td>0.006809</td>\n",
       "      <td>0.006322</td>\n",
       "      <td>0.005187</td>\n",
       "      <td>...</td>\n",
       "      <td>0.040689</td>\n",
       "      <td>0.0</td>\n",
       "      <td>0.488270</td>\n",
       "      <td>0.040689</td>\n",
       "      <td>0.000000</td>\n",
       "      <td>0.0</td>\n",
       "      <td>0.0</td>\n",
       "      <td>0.0</td>\n",
       "      <td>0.0</td>\n",
       "      <td>0.0</td>\n",
       "    </tr>\n",
       "    <tr>\n",
       "      <th>4</th>\n",
       "      <td>0.356187</td>\n",
       "      <td>0.779421</td>\n",
       "      <td>0.015714</td>\n",
       "      <td>0.002619</td>\n",
       "      <td>0.000000</td>\n",
       "      <td>0.002619</td>\n",
       "      <td>0.005810</td>\n",
       "      <td>0.006515</td>\n",
       "      <td>0.007043</td>\n",
       "      <td>0.004050</td>\n",
       "      <td>...</td>\n",
       "      <td>0.041904</td>\n",
       "      <td>0.0</td>\n",
       "      <td>0.502852</td>\n",
       "      <td>0.041904</td>\n",
       "      <td>0.041904</td>\n",
       "      <td>0.0</td>\n",
       "      <td>0.0</td>\n",
       "      <td>0.0</td>\n",
       "      <td>0.0</td>\n",
       "      <td>0.0</td>\n",
       "    </tr>\n",
       "  </tbody>\n",
       "</table>\n",
       "<p>5 rows × 51 columns</p>\n",
       "</div>"
      ],
      "text/plain": [
       "     Rating     views  central_perk_loc  monicas_loc  chandlers_loc  ross_loc  \\\n",
       "0  0.355376  0.920553          0.008563     0.014272       0.000000  0.008563   \n",
       "1  0.324299  0.808747          0.003640     0.010919       0.000000  0.000000   \n",
       "2  0.335394  0.797584          0.010907     0.008180       0.005454  0.000000   \n",
       "3  0.329583  0.801577          0.007629     0.015258       0.000000  0.000000   \n",
       "4  0.356187  0.779421          0.015714     0.002619       0.000000  0.002619   \n",
       "\n",
       "   monicas_lines  rachel_lines  ross_lines  phoebe_lines  ...  part_1_0  \\\n",
       "0       0.010384      0.006970    0.006686      0.002703  ...  0.042816   \n",
       "1       0.004613      0.006261    0.010380      0.002307  ...  0.040037   \n",
       "2       0.008244      0.004122    0.005232      0.006024  ...  0.040902   \n",
       "3       0.007781      0.006809    0.006322      0.005187  ...  0.040689   \n",
       "4       0.005810      0.006515    0.007043      0.004050  ...  0.041904   \n",
       "\n",
       "   part_1_1  title_about   gunther    janice  richard  heckles  frank  \\\n",
       "0       0.0     0.128449  0.000000  0.000000      0.0      0.0    0.0   \n",
       "1       0.0     0.480443  0.040037  0.000000      0.0      0.0    0.0   \n",
       "2       0.0     0.490821  0.040902  0.000000      0.0      0.0    0.0   \n",
       "3       0.0     0.488270  0.040689  0.000000      0.0      0.0    0.0   \n",
       "4       0.0     0.502852  0.041904  0.041904      0.0      0.0    0.0   \n",
       "\n",
       "   estelle  ursula  \n",
       "0      0.0     0.0  \n",
       "1      0.0     0.0  \n",
       "2      0.0     0.0  \n",
       "3      0.0     0.0  \n",
       "4      0.0     0.0  \n",
       "\n",
       "[5 rows x 51 columns]"
      ]
     },
     "execution_count": 14,
     "metadata": {},
     "output_type": "execute_result"
    }
   ],
   "source": [
    "from sklearn.preprocessing import normalize\n",
    "normal = normalize(allpred)\n",
    "normal = pd.DataFrame(normal, columns=allpred.columns)\n",
    "normal.head()"
   ]
  },
  {
   "cell_type": "code",
   "execution_count": 23,
   "metadata": {},
   "outputs": [
    {
     "data": {
      "image/png": "[encoded data removed]",
      "text/plain": [
       "<Figure size 720x504 with 1 Axes>"
      ]
     },
     "metadata": {
      "needs_background": "light"
     },
     "output_type": "display_data"
    }
   ],
   "source": [
    "plt.figure(figsize=(10, 7))  \n",
    "plt.title(\"Dendrograms\")  \n",
    "dend = shc.dendrogram(shc.linkage(normal, method='ward'),\n",
    "                      truncate_mode = 'lastp', # if we want to see the whole dendrogram, remove this and the next two lines of code\n",
    "                      p = 20,\n",
    "                      show_contracted = True)\n",
    "\n",
    "plt.axhline(y=1.5, color='y', linestyle='--')\n",
    "\n",
    "#plt.savefig('../figures_and_results/other/hclus.png')\n",
    "\n",
    "plt.show()"
   ]
  },
  {
   "cell_type": "code",
   "execution_count": 20,
   "metadata": {},
   "outputs": [
    {
     "data": {
      "text/plain": [
       "array([1, 0, 0, 0, 0, 0, 0, 0, 0, 0, 0, 0, 0, 0, 0, 0, 0, 0, 0, 0, 1, 0,\n",
       "       0, 1, 1, 0, 0, 1, 0, 0, 1, 0, 1, 0, 0, 1, 0, 0, 1, 0, 0, 0, 0, 0,\n",
       "       0, 0, 0, 0, 0, 0, 0, 0, 0, 0, 0, 0, 1, 1, 0, 1, 1, 0, 0, 0, 0, 0,\n",
       "       0, 0, 0, 1, 0, 0, 0, 0, 0, 0, 1, 0, 0, 1, 0, 0, 1, 0, 1, 1, 0, 0,\n",
       "       0, 1, 0, 0, 0, 0, 1, 0, 0, 0, 1, 0, 0, 1, 0, 1, 0, 0, 1, 1, 0, 1,\n",
       "       0, 1, 1, 1, 0, 0, 1, 0, 0, 0, 1, 1, 1, 0, 1, 1, 1, 0, 0, 0, 1, 1,\n",
       "       0, 0, 1, 1, 0, 1, 0, 0, 0, 1, 1, 1, 1, 0, 0, 1, 1, 0, 0, 0, 0, 0,\n",
       "       0, 1, 0, 0, 1, 0, 1, 0, 1, 1, 0, 0, 1, 0, 1, 0, 0, 0, 0, 1, 1, 0,\n",
       "       1, 0, 0, 0, 0, 0, 1, 0, 0, 1, 1, 0, 0, 0, 0, 1, 0, 1, 1, 1, 0, 1,\n",
       "       1, 1, 0, 0, 0, 0, 0, 1, 0, 0, 0, 0, 0, 1, 1, 0, 1, 1, 0, 0, 0, 1,\n",
       "       0, 1, 1, 0, 0, 1, 1])"
      ]
     },
     "execution_count": 20,
     "metadata": {},
     "output_type": "execute_result"
    }
   ],
   "source": [
    "# define the model\n",
    "cluster_norm = AgglomerativeClustering(n_clusters=2, affinity='euclidean', linkage='ward') # all other linkage methods showed one huge cluster and a couple outliers \n",
    "\n",
    "# fit model and predict clusters\n",
    "yhat_nor = cluster_norm.fit_predict(normal)\n",
    "yhat_nor"
   ]
  },
  {
   "cell_type": "code",
   "execution_count": null,
   "metadata": {},
   "outputs": [],
   "source": []
  },
  {
   "cell_type": "markdown",
   "metadata": {},
   "source": [
    "# Data for 1st two attempts"
   ]
  },
  {
   "cell_type": "code",
   "execution_count": 35,
   "metadata": {},
   "outputs": [],
   "source": [
    "np.random.seed(440)\n",
    "X = pd.read_csv('../data/with_rows_removed_addedrows.csv') # path will need updating to public repo\n",
    "\n",
    "X = X.drop(columns=['title', 'director', 'release_date', 'all_cast', 'short_summary', 'common_director', 'writer'])\n",
    "\n",
    "# Recode categorical values with numbers\n",
    "X = X.replace({'epi_type': {'prem': 1, 'reg': 0, 'fin': 2}})\n",
    "X = X.replace({'title_about': {'[\\'chandler\\']': 1, '[\\'joey\\']': 2, '[\\'monica\\']': 3,\n",
    "                               '[\\'phoebe\\']': 4, '[\\'rachel\\']': 5, '[\\'ross\\']': 6,\n",
    "                               '[\\'chandler\\', \\'monica\\']': 7, '[\\'rachel\\', \\'joey\\']': 8,\n",
    "                               '[\\'rachel\\', \\'ross\\']': 9, '[\\'ross\\', \\'chandler\\']': 10,\n",
    "                               '[\\'ross\\', \\'monica\\']': 11, 'other': 12}})\n",
    "X = X.replace({'rat_grouped': {'av': 1, 'below': 0, 'above': 2}})"
   ]
  },
  {
   "cell_type": "markdown",
   "metadata": {},
   "source": [
    "#### Attempt #1"
   ]
  },
  {
   "cell_type": "code",
   "execution_count": 37,
   "metadata": {},
   "outputs": [
    {
     "data": {
      "text/html": [
       "<div>\n",
       "<style scoped>\n",
       "    .dataframe tbody tr th:only-of-type {\n",
       "        vertical-align: middle;\n",
       "    }\n",
       "\n",
       "    .dataframe tbody tr th {\n",
       "        vertical-align: top;\n",
       "    }\n",
       "\n",
       "    .dataframe thead th {\n",
       "        text-align: right;\n",
       "    }\n",
       "</style>\n",
       "<table border=\"1\" class=\"dataframe\">\n",
       "  <thead>\n",
       "    <tr style=\"text-align: right;\">\n",
       "      <th></th>\n",
       "      <th>cluster_1</th>\n",
       "      <th>cluster_2</th>\n",
       "      <th>distance</th>\n",
       "      <th>new_cluster_size</th>\n",
       "    </tr>\n",
       "  </thead>\n",
       "  <tbody>\n",
       "    <tr>\n",
       "      <th>0</th>\n",
       "      <td>18.0</td>\n",
       "      <td>19.0</td>\n",
       "      <td>2.106137</td>\n",
       "      <td>2.0</td>\n",
       "    </tr>\n",
       "    <tr>\n",
       "      <th>1</th>\n",
       "      <td>53.0</td>\n",
       "      <td>77.0</td>\n",
       "      <td>2.827561</td>\n",
       "      <td>2.0</td>\n",
       "    </tr>\n",
       "    <tr>\n",
       "      <th>2</th>\n",
       "      <td>107.0</td>\n",
       "      <td>130.0</td>\n",
       "      <td>3.972562</td>\n",
       "      <td>2.0</td>\n",
       "    </tr>\n",
       "    <tr>\n",
       "      <th>3</th>\n",
       "      <td>81.0</td>\n",
       "      <td>150.0</td>\n",
       "      <td>4.385359</td>\n",
       "      <td>2.0</td>\n",
       "    </tr>\n",
       "    <tr>\n",
       "      <th>4</th>\n",
       "      <td>181.0</td>\n",
       "      <td>183.0</td>\n",
       "      <td>4.611249</td>\n",
       "      <td>2.0</td>\n",
       "    </tr>\n",
       "    <tr>\n",
       "      <th>...</th>\n",
       "      <td>...</td>\n",
       "      <td>...</td>\n",
       "      <td>...</td>\n",
       "      <td>...</td>\n",
       "    </tr>\n",
       "    <tr>\n",
       "      <th>221</th>\n",
       "      <td>443.0</td>\n",
       "      <td>447.0</td>\n",
       "      <td>3166.121259</td>\n",
       "      <td>157.0</td>\n",
       "    </tr>\n",
       "    <tr>\n",
       "      <th>222</th>\n",
       "      <td>445.0</td>\n",
       "      <td>446.0</td>\n",
       "      <td>3337.083865</td>\n",
       "      <td>63.0</td>\n",
       "    </tr>\n",
       "    <tr>\n",
       "      <th>223</th>\n",
       "      <td>430.0</td>\n",
       "      <td>444.0</td>\n",
       "      <td>4081.348200</td>\n",
       "      <td>7.0</td>\n",
       "    </tr>\n",
       "    <tr>\n",
       "      <th>224</th>\n",
       "      <td>448.0</td>\n",
       "      <td>449.0</td>\n",
       "      <td>8866.266893</td>\n",
       "      <td>220.0</td>\n",
       "    </tr>\n",
       "    <tr>\n",
       "      <th>225</th>\n",
       "      <td>450.0</td>\n",
       "      <td>451.0</td>\n",
       "      <td>12065.783700</td>\n",
       "      <td>227.0</td>\n",
       "    </tr>\n",
       "  </tbody>\n",
       "</table>\n",
       "<p>226 rows × 4 columns</p>\n",
       "</div>"
      ],
      "text/plain": [
       "     cluster_1  cluster_2      distance  new_cluster_size\n",
       "0         18.0       19.0      2.106137               2.0\n",
       "1         53.0       77.0      2.827561               2.0\n",
       "2        107.0      130.0      3.972562               2.0\n",
       "3         81.0      150.0      4.385359               2.0\n",
       "4        181.0      183.0      4.611249               2.0\n",
       "..         ...        ...           ...               ...\n",
       "221      443.0      447.0   3166.121259             157.0\n",
       "222      445.0      446.0   3337.083865              63.0\n",
       "223      430.0      444.0   4081.348200               7.0\n",
       "224      448.0      449.0   8866.266893             220.0\n",
       "225      450.0      451.0  12065.783700             227.0\n",
       "\n",
       "[226 rows x 4 columns]"
      ]
     },
     "execution_count": 37,
     "metadata": {},
     "output_type": "execute_result"
    }
   ],
   "source": [
    "Z = linkage(X, 'ward')\n",
    "\n",
    "pd.DataFrame(Z, columns = ['cluster_1', 'cluster_2', 'distance', 'new_cluster_size'])"
   ]
  },
  {
   "cell_type": "code",
   "execution_count": 39,
   "metadata": {},
   "outputs": [
    {
     "data": {
      "image/png": "[encoded data removed]",
      "text/plain": [
       "<Figure size 432x288 with 1 Axes>"
      ]
     },
     "metadata": {
      "needs_background": "light"
     },
     "output_type": "display_data"
    }
   ],
   "source": [
    "dendrogram(Z)\n",
    "\n",
    "plt.title('Dendrogram')\n",
    "plt.xlabel('Episodes')\n",
    "plt.ylabel('Euclidean distances')\n",
    "\n",
    "plt.axhline(y=6000, color='y', linestyle='--')\n",
    "\n",
    "plt.show()"
   ]
  },
  {
   "cell_type": "code",
   "execution_count": 56,
   "metadata": {},
   "outputs": [
    {
     "data": {
      "text/plain": [
       "array([  7, 184, 181, 179, 180, 166,   3, 177, 216, 217, 218, 221, 175,\n",
       "       219, 223, 209, 220, 164, 210, 210, 212, 211, 224, 172, 207, 195,\n",
       "       197, 199, 200, 208, 165, 202, 192, 203, 189, 215,   5, 222, 194,\n",
       "       190, 191, 187, 156, 150, 178, 147, 151, 185, 183, 145, 133, 152,\n",
       "       168, 161, 158, 182, 159, 143, 138, 140, 136, 193, 173, 119, 160,\n",
       "       121, 122, 149, 132, 113, 162, 205, 171, 124, 135, 117, 126, 161,\n",
       "       153, 169,  97, 108, 137,   6,  99, 106, 129,  93, 139, 100, 127,\n",
       "       115, 148,  95, 213, 204, 196, 146, 102, 134, 103, 110, 167, 225,\n",
       "        80, 214,  75,  76,   1, 114, 130,  84,  41, 163,  39, 101,  36,\n",
       "       188, 125,  40,  57,  83,  44,  73,  78,  91, 174, 123,  37,  59,\n",
       "        77, 104,  94, 176,  34,  45, 116,  96, 201,  85, 206, 111,  67,\n",
       "        63,  65,  56, 141,  31,  52,  46, 109,  74,  87,  60,  88,  42,\n",
       "        86,  47,  71, 128,  43,  61,  62, 144, 112, 186,  33, 170,  17,\n",
       "        89,  54,  92,   4,  53,  23,  38,  69,  25,  21,  15,  29,  13,\n",
       "        70,  14,  16,  26, 107,  79,  82,  49,  55,  64,  81,  90, 154,\n",
       "        18,  68,  10,  27,  28,  22,  30,  11,  19,  72,   8,   9,  12,\n",
       "        24,  50, 118, 142, 155,  58,  66,  32,  20, 157,  35,  48, 198,\n",
       "       131,  98, 105,  51, 120,   2], dtype=int32)"
      ]
     },
     "execution_count": 56,
     "metadata": {},
     "output_type": "execute_result"
    }
   ],
   "source": [
    "fcluster(Z, t = 6000, criterion = 'maxclust')"
   ]
  },
  {
   "cell_type": "code",
   "execution_count": null,
   "metadata": {},
   "outputs": [],
   "source": []
  },
  {
   "cell_type": "markdown",
   "metadata": {},
   "source": [
    "#### Attempt #2"
   ]
  },
  {
   "cell_type": "code",
   "execution_count": 41,
   "metadata": {},
   "outputs": [
    {
     "data": {
      "text/html": [
       "<div>\n",
       "<style scoped>\n",
       "    .dataframe tbody tr th:only-of-type {\n",
       "        vertical-align: middle;\n",
       "    }\n",
       "\n",
       "    .dataframe tbody tr th {\n",
       "        vertical-align: top;\n",
       "    }\n",
       "\n",
       "    .dataframe thead th {\n",
       "        text-align: right;\n",
       "    }\n",
       "</style>\n",
       "<table border=\"1\" class=\"dataframe\">\n",
       "  <thead>\n",
       "    <tr style=\"text-align: right;\">\n",
       "      <th></th>\n",
       "      <th>season</th>\n",
       "      <th>episode</th>\n",
       "      <th>Rating</th>\n",
       "      <th>number_of_reviews</th>\n",
       "      <th>views</th>\n",
       "      <th>month</th>\n",
       "      <th>central_perk_loc</th>\n",
       "      <th>monicas_loc</th>\n",
       "      <th>chandlers_loc</th>\n",
       "      <th>ross_loc</th>\n",
       "      <th>...</th>\n",
       "      <th>title_about</th>\n",
       "      <th>gunther</th>\n",
       "      <th>janice</th>\n",
       "      <th>richard</th>\n",
       "      <th>heckles</th>\n",
       "      <th>frank</th>\n",
       "      <th>estelle</th>\n",
       "      <th>ursula</th>\n",
       "      <th>part_1</th>\n",
       "      <th>rat_grouped</th>\n",
       "    </tr>\n",
       "  </thead>\n",
       "  <tbody>\n",
       "    <tr>\n",
       "      <th>0</th>\n",
       "      <td>0.000152</td>\n",
       "      <td>0.000152</td>\n",
       "      <td>0.001262</td>\n",
       "      <td>0.999993</td>\n",
       "      <td>0.003268</td>\n",
       "      <td>0.001368</td>\n",
       "      <td>0.000030</td>\n",
       "      <td>0.000051</td>\n",
       "      <td>0.000000</td>\n",
       "      <td>0.00003</td>\n",
       "      <td>...</td>\n",
       "      <td>0.000456</td>\n",
       "      <td>0.000000</td>\n",
       "      <td>0.000000</td>\n",
       "      <td>0.0</td>\n",
       "      <td>0.0</td>\n",
       "      <td>0.0</td>\n",
       "      <td>0.0</td>\n",
       "      <td>0.0</td>\n",
       "      <td>0.0</td>\n",
       "      <td>0.000152</td>\n",
       "    </tr>\n",
       "    <tr>\n",
       "      <th>1</th>\n",
       "      <td>0.000202</td>\n",
       "      <td>0.000404</td>\n",
       "      <td>0.001635</td>\n",
       "      <td>0.999986</td>\n",
       "      <td>0.004078</td>\n",
       "      <td>0.001817</td>\n",
       "      <td>0.000018</td>\n",
       "      <td>0.000055</td>\n",
       "      <td>0.000000</td>\n",
       "      <td>0.00000</td>\n",
       "      <td>...</td>\n",
       "      <td>0.002423</td>\n",
       "      <td>0.000202</td>\n",
       "      <td>0.000000</td>\n",
       "      <td>0.0</td>\n",
       "      <td>0.0</td>\n",
       "      <td>0.0</td>\n",
       "      <td>0.0</td>\n",
       "      <td>0.0</td>\n",
       "      <td>0.0</td>\n",
       "      <td>0.000000</td>\n",
       "    </tr>\n",
       "    <tr>\n",
       "      <th>2</th>\n",
       "      <td>0.000214</td>\n",
       "      <td>0.000643</td>\n",
       "      <td>0.001757</td>\n",
       "      <td>0.999984</td>\n",
       "      <td>0.004178</td>\n",
       "      <td>0.002143</td>\n",
       "      <td>0.000057</td>\n",
       "      <td>0.000043</td>\n",
       "      <td>0.000014</td>\n",
       "      <td>0.00000</td>\n",
       "      <td>...</td>\n",
       "      <td>0.002571</td>\n",
       "      <td>0.000214</td>\n",
       "      <td>0.000000</td>\n",
       "      <td>0.0</td>\n",
       "      <td>0.0</td>\n",
       "      <td>0.0</td>\n",
       "      <td>0.0</td>\n",
       "      <td>0.0</td>\n",
       "      <td>0.0</td>\n",
       "      <td>0.000000</td>\n",
       "    </tr>\n",
       "    <tr>\n",
       "      <th>3</th>\n",
       "      <td>0.000221</td>\n",
       "      <td>0.000884</td>\n",
       "      <td>0.001790</td>\n",
       "      <td>0.999983</td>\n",
       "      <td>0.004354</td>\n",
       "      <td>0.002210</td>\n",
       "      <td>0.000041</td>\n",
       "      <td>0.000083</td>\n",
       "      <td>0.000000</td>\n",
       "      <td>0.00000</td>\n",
       "      <td>...</td>\n",
       "      <td>0.002652</td>\n",
       "      <td>0.000221</td>\n",
       "      <td>0.000000</td>\n",
       "      <td>0.0</td>\n",
       "      <td>0.0</td>\n",
       "      <td>0.0</td>\n",
       "      <td>0.0</td>\n",
       "      <td>0.0</td>\n",
       "      <td>0.0</td>\n",
       "      <td>0.000000</td>\n",
       "    </tr>\n",
       "    <tr>\n",
       "      <th>4</th>\n",
       "      <td>0.000222</td>\n",
       "      <td>0.001112</td>\n",
       "      <td>0.001890</td>\n",
       "      <td>0.999983</td>\n",
       "      <td>0.004135</td>\n",
       "      <td>0.002223</td>\n",
       "      <td>0.000083</td>\n",
       "      <td>0.000014</td>\n",
       "      <td>0.000000</td>\n",
       "      <td>0.00000</td>\n",
       "      <td>...</td>\n",
       "      <td>0.002668</td>\n",
       "      <td>0.000222</td>\n",
       "      <td>0.000222</td>\n",
       "      <td>0.0</td>\n",
       "      <td>0.0</td>\n",
       "      <td>0.0</td>\n",
       "      <td>0.0</td>\n",
       "      <td>0.0</td>\n",
       "      <td>0.0</td>\n",
       "      <td>0.000222</td>\n",
       "    </tr>\n",
       "  </tbody>\n",
       "</table>\n",
       "<p>5 rows × 29 columns</p>\n",
       "</div>"
      ],
      "text/plain": [
       "     season   episode    Rating  number_of_reviews     views     month  \\\n",
       "0  0.000152  0.000152  0.001262           0.999993  0.003268  0.001368   \n",
       "1  0.000202  0.000404  0.001635           0.999986  0.004078  0.001817   \n",
       "2  0.000214  0.000643  0.001757           0.999984  0.004178  0.002143   \n",
       "3  0.000221  0.000884  0.001790           0.999983  0.004354  0.002210   \n",
       "4  0.000222  0.001112  0.001890           0.999983  0.004135  0.002223   \n",
       "\n",
       "   central_perk_loc  monicas_loc  chandlers_loc  ross_loc  ...  title_about  \\\n",
       "0          0.000030     0.000051       0.000000   0.00003  ...     0.000456   \n",
       "1          0.000018     0.000055       0.000000   0.00000  ...     0.002423   \n",
       "2          0.000057     0.000043       0.000014   0.00000  ...     0.002571   \n",
       "3          0.000041     0.000083       0.000000   0.00000  ...     0.002652   \n",
       "4          0.000083     0.000014       0.000000   0.00000  ...     0.002668   \n",
       "\n",
       "    gunther    janice  richard  heckles  frank  estelle  ursula  part_1  \\\n",
       "0  0.000000  0.000000      0.0      0.0    0.0      0.0     0.0     0.0   \n",
       "1  0.000202  0.000000      0.0      0.0    0.0      0.0     0.0     0.0   \n",
       "2  0.000214  0.000000      0.0      0.0    0.0      0.0     0.0     0.0   \n",
       "3  0.000221  0.000000      0.0      0.0    0.0      0.0     0.0     0.0   \n",
       "4  0.000222  0.000222      0.0      0.0    0.0      0.0     0.0     0.0   \n",
       "\n",
       "   rat_grouped  \n",
       "0     0.000152  \n",
       "1     0.000000  \n",
       "2     0.000000  \n",
       "3     0.000000  \n",
       "4     0.000222  \n",
       "\n",
       "[5 rows x 29 columns]"
      ]
     },
     "execution_count": 41,
     "metadata": {},
     "output_type": "execute_result"
    }
   ],
   "source": [
    "X_scaled = normalize(X)\n",
    "X_scaled = pd.DataFrame(X_scaled, columns=X.columns)\n",
    "X_scaled.head()"
   ]
  },
  {
   "cell_type": "code",
   "execution_count": 44,
   "metadata": {},
   "outputs": [
    {
     "data": {
      "text/plain": [
       "<matplotlib.lines.Line2D at 0x1a2198c750>"
      ]
     },
     "execution_count": 44,
     "metadata": {},
     "output_type": "execute_result"
    },
    {
     "data": {
      "image/png": "[encoded data removed]",
      "text/plain": [
       "<Figure size 720x504 with 1 Axes>"
      ]
     },
     "metadata": {
      "needs_background": "light"
     },
     "output_type": "display_data"
    }
   ],
   "source": [
    "plt.figure(figsize=(10, 7))  \n",
    "plt.title(\"Dendrograms\")  \n",
    "dend = shc.dendrogram(shc.linkage(X_scaled, method='ward'))\n",
    "\n",
    "plt.axhline(y=.03, color='y', linestyle='--')"
   ]
  },
  {
   "cell_type": "code",
   "execution_count": 46,
   "metadata": {},
   "outputs": [
    {
     "data": {
      "text/plain": [
       "array([0, 0, 0, 0, 0, 0, 0, 0, 0, 0, 1, 1, 1, 1, 1, 1, 1, 1, 1, 1, 1, 1,\n",
       "       1, 1, 0, 0, 0, 0, 0, 0, 0, 0, 0, 1, 1, 1, 1, 1, 1, 1, 1, 1, 1, 1,\n",
       "       1, 1, 1, 0, 0, 0, 0, 0, 0, 0, 0, 0, 0, 1, 1, 1, 1, 1, 1, 1, 1, 1,\n",
       "       1, 1, 1, 1, 1, 1, 0, 0, 0, 0, 0, 0, 0, 0, 0, 0, 1, 0, 1, 1, 1, 1,\n",
       "       1, 1, 1, 1, 1, 1, 1, 0, 0, 0, 0, 0, 0, 0, 0, 0, 0, 1, 1, 1, 0, 1,\n",
       "       1, 1, 1, 1, 1, 1, 1, 1, 0, 0, 0, 0, 0, 0, 0, 0, 0, 0, 1, 1, 1, 1,\n",
       "       1, 1, 1, 1, 1, 1, 1, 1, 1, 0, 0, 0, 0, 0, 0, 0, 0, 0, 0, 1, 1, 1,\n",
       "       1, 1, 1, 1, 1, 1, 1, 1, 1, 1, 0, 0, 0, 0, 0, 0, 0, 0, 0, 0, 0, 1,\n",
       "       1, 1, 1, 1, 1, 1, 1, 1, 1, 1, 1, 0, 0, 0, 0, 0, 0, 0, 0, 0, 0, 1,\n",
       "       1, 1, 1, 1, 1, 1, 1, 1, 1, 1, 1, 1, 0, 0, 0, 0, 0, 0, 0, 0, 1, 1,\n",
       "       1, 1, 1, 1, 1, 1, 1])"
      ]
     },
     "execution_count": 46,
     "metadata": {},
     "output_type": "execute_result"
    }
   ],
   "source": [
    "# Define the model\n",
    "cluster = AgglomerativeClustering(n_clusters=2, affinity='euclidean', linkage='ward')\n",
    "\n",
    "# Fit model and predict clusters\n",
    "cluster.fit_predict(X_scaled)"
   ]
  },
  {
   "cell_type": "code",
   "execution_count": 47,
   "metadata": {},
   "outputs": [
    {
     "data": {
      "text/plain": [
       "<matplotlib.collections.PathCollection at 0x1a22c3a5d0>"
      ]
     },
     "execution_count": 47,
     "metadata": {},
     "output_type": "execute_result"
    },
    {
     "data": {
      "image/png": "[encoded data removed]",
      "text/plain": [
       "<Figure size 720x504 with 1 Axes>"
      ]
     },
     "metadata": {
      "needs_background": "light"
     },
     "output_type": "display_data"
    }
   ],
   "source": [
    "# Plot some of the clusters\n",
    "plt.figure(figsize=(10, 7))  \n",
    "plt.scatter(X_scaled['month'], X_scaled['views'], c=cluster.labels_) "
   ]
  },
  {
   "cell_type": "code",
   "execution_count": 48,
   "metadata": {},
   "outputs": [
    {
     "data": {
      "text/plain": [
       "<matplotlib.collections.PathCollection at 0x1a21b10e50>"
      ]
     },
     "execution_count": 48,
     "metadata": {},
     "output_type": "execute_result"
    },
    {
     "data": {
      "image/png": "[encoded data removed]",
      "text/plain": [
       "<Figure size 720x504 with 1 Axes>"
      ]
     },
     "metadata": {
      "needs_background": "light"
     },
     "output_type": "display_data"
    }
   ],
   "source": [
    "plt.figure(figsize=(10, 7))  \n",
    "plt.scatter(X_scaled['title_about'], X_scaled['views'], c=cluster.labels_) "
   ]
  },
  {
   "cell_type": "code",
   "execution_count": null,
   "metadata": {},
   "outputs": [],
   "source": [
    "# Attempt 2.5\n",
    "# Run first version with scaled data\n",
    "\n",
    "XZ = linkage(X_scaled, 'ward')\n",
    "\n",
    "pd.DataFrame(XZ, columns = ['cluster_1', 'cluster_2', 'distance', 'new_cluster_size'])\n"
   ]
  },
  {
   "cell_type": "code",
   "execution_count": 54,
   "metadata": {},
   "outputs": [
    {
     "data": {
      "image/png": "[encoded data removed]",
      "text/plain": [
       "<Figure size 432x288 with 1 Axes>"
      ]
     },
     "metadata": {
      "needs_background": "light"
     },
     "output_type": "display_data"
    }
   ],
   "source": [
    "dendrogram(XZ)\n",
    "\n",
    "plt.title('Dendrogram')\n",
    "plt.xlabel('Episodes')\n",
    "plt.ylabel('Euclidean distances')\n",
    "\n",
    "plt.axhline(y=.03, color='y', linestyle='--')\n",
    "\n",
    "plt.show()"
   ]
  },
  {
   "cell_type": "code",
   "execution_count": 55,
   "metadata": {},
   "outputs": [
    {
     "data": {
      "text/plain": [
       "array([130, 133, 131, 132, 134, 135, 136, 139, 141, 140,  59,  57,  58,\n",
       "        60,  61,  97,  98,  62,  87,  88,   8,  89,  91,   9, 182, 187,\n",
       "       188, 160, 196, 197, 161, 211, 172,  92,  93, 127,  55,  95, 108,\n",
       "        84,  82,  83,  90,  32,  64,  26,  22, 189, 145, 192, 193, 198,\n",
       "       142, 209, 210, 144, 173, 109,  94, 106, 107,  96,  63,  85,  86,\n",
       "        30,  31,  27,  23,  18,  24,  19, 184, 194, 190, 191, 166, 214,\n",
       "       216, 162, 224, 225, 101, 128,  99, 102,  68,  66,  67,  10,  28,\n",
       "        29,  33,  25,  16, 183, 185, 195, 167, 215, 212, 176, 143, 163,\n",
       "       226,  75, 104, 103, 129, 105,  69,  12,  11,  15,  37,  38,   6,\n",
       "        20, 179, 181, 170, 164, 165, 213, 174, 175, 137, 227,  77,  78,\n",
       "       100, 110,  70,  65,  13,   4,  34,  14,  35,  39,  21, 171, 149,\n",
       "       168, 169, 206, 217, 177, 178, 221, 222,  79,  80,  72,  73, 111,\n",
       "        71,  47,   1,  36,   2,  40,   7,  17, 202, 180, 150, 186, 153,\n",
       "       204, 207, 208, 138, 148, 146, 120, 115, 121, 122, 124, 123,  48,\n",
       "         5,  53,  49, 125, 126, 203, 201, 199, 200, 154, 205, 151, 152,\n",
       "       147, 223, 117, 118, 119,  41,  43,  44,  45,  46,   3,  54,  51,\n",
       "        52,  50, 159, 157, 158, 219, 155, 156, 220, 218,  81, 116,  76,\n",
       "       112, 113,  74,  42, 114,  56], dtype=int32)"
      ]
     },
     "execution_count": 55,
     "metadata": {},
     "output_type": "execute_result"
    }
   ],
   "source": [
    "fcluster(XZ, t = .03, criterion = 'maxclust')"
   ]
  },
  {
   "cell_type": "code",
   "execution_count": null,
   "metadata": {},
   "outputs": [],
   "source": []
  }
 ],
 "metadata": {
  "kernelspec": {
   "display_name": "Python 3",
   "language": "python",
   "name": "python3"
  },
  "language_info": {
   "codemirror_mode": {
    "name": "ipython",
    "version": 3
   },
   "file_extension": ".py",
   "mimetype": "text/x-python",
   "name": "python",
   "nbconvert_exporter": "python",
   "pygments_lexer": "ipython3",
   "version": "3.7.6"
  }
 },
 "nbformat": 4,
 "nbformat_minor": 4
}
